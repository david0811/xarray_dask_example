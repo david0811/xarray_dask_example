{
 "cells": [
  {
   "cell_type": "markdown",
   "id": "1215a5ee-1106-4858-ad89-6688a31dabc2",
   "metadata": {},
   "source": [
    "## Setup dask cluster"
   ]
  },
  {
   "cell_type": "code",
   "execution_count": null,
   "id": "d789b709",
   "metadata": {},
   "outputs": [],
   "source": [
    "from dask_jobqueue import PBSCluster\n",
    "cluster = PBSCluster()"
   ]
  },
  {
   "cell_type": "code",
   "execution_count": null,
   "id": "7a399f23",
   "metadata": {},
   "outputs": [],
   "source": [
    "cluster.scale(jobs=2)  # ask for jobs"
   ]
  },
  {
   "cell_type": "code",
   "execution_count": null,
   "id": "a0f4e0d0",
   "metadata": {},
   "outputs": [],
   "source": [
    "from dask.distributed import Client\n",
    "client = Client()"
   ]
  },
  {
   "cell_type": "code",
   "execution_count": null,
   "id": "92179689",
   "metadata": {},
   "outputs": [],
   "source": [
    "client"
   ]
  },
  {
   "cell_type": "code",
   "execution_count": null,
   "id": "8b304fa4-e795-4e18-91ed-bfc540d33c81",
   "metadata": {},
   "outputs": [],
   "source": [
    "# start dasking..."
   ]
  }
 ],
 "metadata": {
  "kernelspec": {
   "display_name": "Python 3 (ipykernel)",
   "language": "python",
   "name": "python3"
  },
  "language_info": {
   "codemirror_mode": {
    "name": "ipython",
    "version": 3
   },
   "file_extension": ".py",
   "mimetype": "text/x-python",
   "name": "python",
   "nbconvert_exporter": "python",
   "pygments_lexer": "ipython3",
   "version": "3.9.6"
  }
 },
 "nbformat": 4,
 "nbformat_minor": 5
}
