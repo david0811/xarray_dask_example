{
 "cells": [
  {
   "cell_type": "code",
   "execution_count": 3,
   "metadata": {},
   "outputs": [],
   "source": [
    "import xarray as xr\n",
    "# import xclim as xc"
   ]
  },
  {
   "cell_type": "code",
   "execution_count": 7,
   "metadata": {},
   "outputs": [],
   "source": [
    "# Select one year!\n",
    "year = '2000'"
   ]
  },
  {
   "cell_type": "code",
   "execution_count": 8,
   "metadata": {},
   "outputs": [],
   "source": [
    "# Read relevant files\n",
    "files = ['tmmx_' + year, 'rmin_' + year, 'pr_' + year, 'vs_' + year]\n",
    "files = ['/data/rsriver/c/davidcl2/METDATA/' + file + '.nc' for file in files]\n",
    "\n",
    "# Import and concatenate using Xarray\n",
    "ds = [xr.open_dataset(file) for file in files]\n",
    "ds = xr.merge(ds)"
   ]
  },
  {
   "cell_type": "code",
   "execution_count": 10,
   "metadata": {},
   "outputs": [],
   "source": [
    "# Add some corrections for xclim\n",
    "ds.precipitation_amount.attrs['units'] = 'mm/day'\n",
    "ds = ds.rename({'day':'time'})"
   ]
  },
  {
   "cell_type": "code",
   "execution_count": null,
   "metadata": {},
   "outputs": [],
   "source": [
    "# Calculate FWI\n",
    "out = xc.indices.fire_weather_indexes(\n",
    "    ds['air_temperature'],\n",
    "    ds['precipitation_amount'],\n",
    "    ds['wind_speed'],\n",
    "    ds['relative_humidity'],\n",
    "    ds.lat\n",
    ")"
   ]
  },
  {
   "cell_type": "code",
   "execution_count": null,
   "metadata": {},
   "outputs": [],
   "source": [
    "# Combine into xr dataset\n",
    "names = [\"DC\", \"DMC\", \"FFMC\", \"ISI\", \"BUI\", \"FWI\"]\n",
    "out_dict = dict([(names[i], out[i]) for i in range(len(out))])\n",
    "ds = xr.open_dataset(files[0])\n",
    "out = xr.Dataset(data_vars=out_dict, attrs=ds.attrs)\n",
    "\n",
    "# Update attributes\n",
    "out.attrs['author'] = 'John Abatzoglou - University of Idaho, jabatzoglou@uidaho.edu / David Lafferty - University of Illinois, davidcl2@illinois.edu'\n",
    "out.attrs['date'] = '09 March 2016 / 10 March 2021'\n",
    "out.attrs['note3'] = 'Fire Weather indices calculated using xclim python package v0.23.0 with tas, pr, ws, rh, lat as inputs and all other parameters set to default'\n",
    "out.DC.attrs['description'] = \"Drought Code\"\n",
    "out.DMC.attrs['description'] = \"Duff Moisture Code\"\n",
    "out.FFMC.attrs['description'] = \"Fine Fuel Moisture Code\"\n",
    "out.ISI.attrs['description'] = \"Initial Spread Index\"\n",
    "out.BUI.attrs['description'] = \"Build-up Index\"\n",
    "out.FWI.attrs['description'] = \"Fire Weather Index\"\n",
    "\n",
    "# Save\n",
    "out.to_netcdf('/gpfs/group/kaf26/default/dcl5300/MACA_fire_weather_index/UofIMetData/out/MACA_UofIMetData_' + year + '_fire-indices.nc')\n"
   ]
  }
 ],
 "metadata": {
  "kernelspec": {
   "display_name": "Python 3",
   "language": "python",
   "name": "python3"
  },
  "language_info": {
   "codemirror_mode": {
    "name": "ipython",
    "version": 3
   },
   "file_extension": ".py",
   "mimetype": "text/x-python",
   "name": "python",
   "nbconvert_exporter": "python",
   "pygments_lexer": "ipython3",
   "version": "3.7.3"
  }
 },
 "nbformat": 4,
 "nbformat_minor": 2
}
